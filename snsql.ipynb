{
 "cells": [
  {
   "cell_type": "code",
   "execution_count": null,
   "metadata": {},
   "outputs": [],
   "source": [
    "import seaborn as sns \n",
    "import pandas as pd"
   ]
  },
  {
   "cell_type": "code",
   "execution_count": null,
   "metadata": {},
   "outputs": [],
   "source": [
    "df = pd.read_csv('./tests/covid.csv')\n",
    "df[df.state=='California']"
   ]
  },
  {
   "cell_type": "markdown",
   "metadata": {},
   "source": [
    "## Setup some prelim functions"
   ]
  },
  {
   "cell_type": "code",
   "execution_count": null,
   "metadata": {},
   "outputs": [],
   "source": [
    "def log(msg):\n",
    "    print(msg)\n",
    "\n",
    "def error(msg):\n",
    "    print('ERROR: ' + msg)"
   ]
  },
  {
   "cell_type": "code",
   "execution_count": 261,
   "metadata": {},
   "outputs": [
    {
     "data": {
      "text/plain": [
       "(\"stacked='Health', format='$0.0M'\\n\\t\\t\\t\\t ,order=('green','yellow','red','black','unclassified'\",\n",
       " 18,\n",
       " 109)"
      ]
     },
     "execution_count": 261,
     "metadata": {},
     "output_type": "execute_result"
    }
   ],
   "source": [
    "\n",
    "teststring = \"\"\"\n",
    ",sum(ARR)   as y(stacked='Health', format='$0.0M'\n",
    "\t\t\t\t ,order=('green','yellow','red','black','unclassified') \n",
    "\t\t\t\t ,color=('green','yellow','#ff0000','black','grey'))\n",
    "asdf;\n",
    "\"\"\"\n",
    "\n",
    "def getbetween(txt:str, delimchars:str=\"()\", posStart:int=0, posEnd:int=None):\n",
    "    startchar = delimchars[:1]\n",
    "    endchar = startchar if len(delimchars)<2 else delimchars[1:2]\n",
    "    posEnd = len(txt) if posEnd is None else posEnd \n",
    "    pos1 = txt.find(startchar,posStart,posEnd)+1\n",
    "    \n",
    "    if startchar=='(' and endchar==')':  # have to count open/closes\n",
    "        opencount = 0\n",
    "        for c in txt[pos1:]:\n",
    "            if c=='(':  opencount +=1\n",
    "        else:\n",
    "            #TODO: finish open/count/close\n",
    "\n",
    "\n",
    "    \n",
    "    pos2 = txt.find(endchar, pos1)\n",
    "    if pos1 == 0:\n",
    "        txt = ''\n",
    "        pos2 = 0\n",
    "    if txt[pos2+1:pos2+2] == endchar and (startchar == \"'\" and endchar == \"'\"):\n",
    "        pos2 = txt.find(endchar, pos2+2)\n",
    "        txt = txt[pos1:pos2].replace(endchar*2, endchar)\n",
    "    else:\n",
    "        txt = txt[pos1:pos2]\n",
    "    if pos2==-1: pos2 = posEnd\n",
    "    return (txt, pos1, pos2)\n",
    "\n",
    "getbetween(teststring,\"()\", 15)\n",
    "\n"
   ]
  },
  {
   "cell_type": "code",
   "execution_count": null,
   "metadata": {},
   "outputs": [],
   "source": [
    "print(teststring)\n",
    "for test in [\"''\", \"()\", \",,\"]:\n",
    "    pos = 0\n",
    "    print(f' ==== test: {test}')\n",
    "    for iter in range(0,3):\n",
    "        results = getbetween(teststring,test,pos) \n",
    "        print(f\"--{results[0]}--  pos1={results[1]}  pos2={results[2]}\")\n",
    "        print(f'--{teststring[results[1]:results[2]]}--')\n",
    "        pos = results[2] + 1\n"
   ]
  },
  {
   "cell_type": "markdown",
   "metadata": {},
   "source": [
    "## first, let's digest away any white space"
   ]
  },
  {
   "cell_type": "code",
   "execution_count": 248,
   "metadata": {},
   "outputs": [],
   "source": [
    "txt = \"\"\"\n",
    "chart BAR 'Account Health by Region - ARR ($M)' \n",
    " Region     as x(label=null)\n",
    ",sum(ARR)   as y(stacked='Health', format='$0.0M'\n",
    "\t\t\t\t ,order=('green','yellow','red','black','unclassified') \n",
    "\t\t\t\t ,color=('green','yellow','#ff0000','black','grey'))\n",
    "from file('somefile.csv')\n",
    "legend (x=120, y=80, border=(backcolor='grey', color='black', style='solid'))\n",
    "body(style='bod', width=12, height=6)\n",
    "order by Region\n",
    ";\n",
    "\"\"\""
   ]
  },
  {
   "cell_type": "code",
   "execution_count": 257,
   "metadata": {},
   "outputs": [
    {
     "name": "stdout",
     "output_type": "stream",
     "text": [
      "key: querybody\n",
      "' Region as x(label=null) ,sum(ARR) as y(stacked='Health', format='$0.0M' ,order=('green','yellow','red','black','unclassified') ,color=('green','yellow','#ff0000','black','grey')) \n",
      "--------------------------------------------------\n",
      "key: chart_elements\n",
      "[{'column': 'Region', 'aggregation': '', 'axis': 'x', 'params': 'label=null'}, {'aggregation': 'sum', 'column': 'ARR', 'axis': 'y', 'params': \"stacked='Health', format='$0.0M' ,order=('green','yellow','red','black','unclassified'\"}, {'column': 'color', 'aggregation': '', 'axis': 'yellow', 'params': \"'somefile.csv'\"}]\n",
      "--------------------------------------------------\n"
     ]
    }
   ],
   "source": [
    "from dataclasses import dataclass\n",
    "\n",
    "@dataclass\n",
    "class snsql():\n",
    "    chart_type:str = ''\n",
    "    chart_title:str = '' \n",
    "    querytext:str = '' \n",
    "\n",
    "    def __init__(self, querytext:str=''):\n",
    "        self.querytext = querytext.strip()\n",
    "        self.chart_types = ['bar','line','heatmap']\n",
    "        self.aggregations = ['sum','count','mean','avg','median']\n",
    "        \n",
    "    def error(self, msg:str=''):\n",
    "        print(msg)\n",
    "\n",
    "    def report(self) -> str:\n",
    "        for k,v in self.__dict__.items():\n",
    "            if k in ['querybody','chart_elements']:\n",
    "                print('key: %s' %k)\n",
    "                print(v)\n",
    "                print('-'*50)\n",
    "\n",
    "    @staticmethod\n",
    "    def removewhitespace(txt:str) ->str:\n",
    "        txt = txt.replace('\\n', ' ').replace('\\t',' ').strip()\n",
    "        while txt.find('  ') >0:\n",
    "            txt = txt.replace('  ',' ')\n",
    "        return txt\n",
    "\n",
    "    @staticmethod\n",
    "    def getnextword(txt:str, posStart:int=0, posEnd:int=None ):\n",
    "        wordbreaks = [' ',\"'\",'\"',',','(',')','=','-','+',':',';']\n",
    "        pos1 = posStart\n",
    "\n",
    "        # move to first non-wordbreak character\n",
    "        while txt[pos1:pos1+1] in wordbreaks:\n",
    "            pos1 +=1\n",
    "\n",
    "        # find next wordbreak character and return \n",
    "        pos2 = pos1\n",
    "        rtn = ''\n",
    "        last = ''\n",
    "        for curr in txt[pos1:posEnd]:\n",
    "            next = txt[pos2+1:pos2+2]\n",
    "            if curr in wordbreaks and not (curr==\"'\" and (next==\"'\" or last==\"'\")):\n",
    "                break\n",
    "            last = curr \n",
    "            pos2 +=1\n",
    "        return (txt[pos1:pos2].replace(\"''\",\"'\"), pos1, pos2)\n",
    "\n",
    "    @staticmethod\n",
    "    def getbetween(txt:str, delimchars:str=\"()\", posStart:int=0, posEnd:int=None):\n",
    "        startchar = delimchars[:1]\n",
    "        endchar = startchar if len(delimchars)<2 else delimchars[1:2]\n",
    "        posEnd = len(txt) if posEnd is None else posEnd \n",
    "        pos1 = txt.find(startchar,posStart,posEnd)+1\n",
    "        pos2 = txt.find(endchar, pos1)\n",
    "        if pos1 == 0:\n",
    "            txt = ''\n",
    "            pos2 = 0\n",
    "        if txt[pos2+1:pos2+2] == endchar and (startchar == \"'\" and endchar == \"'\"):\n",
    "            pos2 = txt.find(endchar, pos2+2)\n",
    "            txt = txt[pos1:pos2].replace(endchar*2, endchar)\n",
    "        else:\n",
    "            txt = txt[pos1:pos2]\n",
    "        if pos2==-1: pos2 = posEnd\n",
    "        return (txt, pos1, pos2)\n",
    "\n",
    "\n",
    "    def resolve(self, querytext:str=''):\n",
    "        if querytext=='': querytext = self.querytext\n",
    "        querytext = self.removewhitespace(querytext)\n",
    "        self.querytext = querytext\n",
    "\n",
    "        # first word must be \"chart\"\n",
    "        currpos=0\n",
    "        (phrase, lastpos, currpos) = self.getnextword(querytext, currpos)\n",
    "        if phrase.lower() != 'chart':\n",
    "            self.error('snsql must begin with the \"chart\" keyword (%s)' %phrase)\n",
    "\n",
    "        # parse chart TYPE\n",
    "        (phrase, lastpos, currpos) = self.getnextword(querytext, currpos)\n",
    "        if phrase.lower() in self.chart_types:\n",
    "            self.chart_type = phrase.lower()\n",
    "        else:\n",
    "            self.error('snsql doesn''t currently support chart type %s, only: %s' %(phrase, ','.join([x for x in charttypes])) )\n",
    "\n",
    "        # parse chart TITLE\n",
    "        (phrase, lastpos, currpos) = self.getbetween(querytext, \"''\", currpos)\n",
    "        self.chart_title = phrase \n",
    "\n",
    "        # now into the snsql's body.\n",
    "        frompos = querytext.lower().find('from',currpos)\n",
    "                \n",
    "        self.querybody = querytext[currpos:frompos]\n",
    "\n",
    "        self.chart_elements = []\n",
    "        while currpos <= frompos:\n",
    "            ce = {}\n",
    "            (word, lastpos, currpos) = self.getnextword(querytext, currpos)\n",
    "            if word in self.aggregations:                \n",
    "                ce['aggregation'] = word\n",
    "                (column, lastpos, currpos) = self.getbetween(querytext, '()', currpos)        \n",
    "                ce['column'] = column\n",
    "            else:\n",
    "                ce['column'] = word\n",
    "                ce['aggregation'] = ''\n",
    "\n",
    "            (astext, lastpos, currpos) = self.getnextword(querytext, currpos)\n",
    "            (axis, lastpos, currpos) = self.getnextword(querytext, currpos)\n",
    "            ce['axis'] = axis\n",
    "\n",
    "            (params, lastpos, currpos) = self.getbetween(querytext, '()', currpos)   \n",
    "\n",
    "            ce['params'] = params\n",
    "\n",
    "\n",
    "            self.chart_elements.append(ce)\n",
    "        \n",
    "\n",
    "s = snsql(txt)\n",
    "s.resolve()\n",
    "s.report() "
   ]
  },
  {
   "cell_type": "code",
   "execution_count": null,
   "metadata": {},
   "outputs": [],
   "source": []
  }
 ],
 "metadata": {
  "interpreter": {
   "hash": "eb716fad606d260e0307bd538bc6b2417a18b6d577d0adee5e30e71abbc1a883"
  },
  "kernelspec": {
   "display_name": "Python 3.9.6 64-bit ('env': venv)",
   "name": "python3"
  },
  "language_info": {
   "codemirror_mode": {
    "name": "ipython",
    "version": 3
   },
   "file_extension": ".py",
   "mimetype": "text/x-python",
   "name": "python",
   "nbconvert_exporter": "python",
   "pygments_lexer": "ipython3",
   "version": "3.9.6"
  },
  "orig_nbformat": 4
 },
 "nbformat": 4,
 "nbformat_minor": 2
}
